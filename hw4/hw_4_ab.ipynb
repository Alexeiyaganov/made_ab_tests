{
 "cells": [
  {
   "cell_type": "code",
   "execution_count": 17,
   "metadata": {},
   "outputs": [],
   "source": [
    "import matplotlib.pyplot as plt\n",
    "import pandas as pd\n",
    "import numpy as np\n",
    "import datetime"
   ]
  },
  {
   "cell_type": "markdown",
   "metadata": {},
   "source": [
    "Метрика: средний доход от пользователя за 1 неделю после первого показа ему рекомендации на 10% (после начала A/B теста время первого показа ищется снова)\n",
    "\n",
    "Важная информация:\n",
    "Эксперимент начинается 2023-05-01. Данные есть до 2023-06-01 (но можно завершить раньше, если это позволит оценка длительности)\n",
    "Вам сказали, что его длительность должна составить 1 месяц.\n",
    "Все покупки, которые вызваны не влиянием рекомендаций, в этом логе не учитываются\n",
    "\n",
    "Описание данных:\n",
    "id_product -  идентификатор продукта, который был рекомендован\n",
    "is_pay - купил ли пользователь товар\n",
    "sum_payment - размер платежа (0, если не купил)\n",
    "city - город, в котором находится пользователь\n",
    "id_user - пользователь\n",
    "timestamp - timestamp события\n",
    "date - дата события\n",
    "\n",
    "Задачи, которые необходимо решить:\n",
    "Оценить длительность теста на момент его начала. Сравнить с предложенной. Для оценки необходимо использовать данные с пред экспериментального периода. Посмотреть, есть ли выбросы в данных.\n",
    "Построить методику расчета целевой метрики. Рассчитать целевую метрику на день окончания теста (рассчитанной в п1) для группы A и B, рассчитать эффект, p_value. Посмотреть, есть ли выбросы в данных.\n",
    "Рассчитать метрики из п2 по дням и построить их графики.\n",
    "Принять решение о результате теста - обосновать.\n",
    "\n",
    "Дополнительно:\n",
    "При подсчете метрик обработать выбросы в данных - описать почему их можно удалить из теста, если они удаляются. Пожалуйста, не заглядывайте в будущее по данным, если рассчитанная длительность меньше предоставленных данных."
   ]
  },
  {
   "cell_type": "code",
   "execution_count": 18,
   "metadata": {},
   "outputs": [
    {
     "data": {
      "text/html": [
       "<div>\n",
       "<style scoped>\n",
       "    .dataframe tbody tr th:only-of-type {\n",
       "        vertical-align: middle;\n",
       "    }\n",
       "\n",
       "    .dataframe tbody tr th {\n",
       "        vertical-align: top;\n",
       "    }\n",
       "\n",
       "    .dataframe thead th {\n",
       "        text-align: right;\n",
       "    }\n",
       "</style>\n",
       "<table border=\"1\" class=\"dataframe\">\n",
       "  <thead>\n",
       "    <tr style=\"text-align: right;\">\n",
       "      <th></th>\n",
       "      <th>timestamp</th>\n",
       "      <th>id_user</th>\n",
       "      <th>sum_payment</th>\n",
       "      <th>group</th>\n",
       "      <th>city</th>\n",
       "      <th>id_product</th>\n",
       "      <th>is_pay</th>\n",
       "      <th>date</th>\n",
       "      <th>is_test</th>\n",
       "    </tr>\n",
       "  </thead>\n",
       "  <tbody>\n",
       "    <tr>\n",
       "      <th>56400</th>\n",
       "      <td>1685485266</td>\n",
       "      <td>user_10740</td>\n",
       "      <td>0</td>\n",
       "      <td>A</td>\n",
       "      <td>Санкт-Петербург</td>\n",
       "      <td>14.0</td>\n",
       "      <td>0</td>\n",
       "      <td>2023-05-31</td>\n",
       "      <td>True</td>\n",
       "    </tr>\n",
       "    <tr>\n",
       "      <th>56401</th>\n",
       "      <td>1685481632</td>\n",
       "      <td>user_3589</td>\n",
       "      <td>0</td>\n",
       "      <td>B</td>\n",
       "      <td>Санкт-Петербург</td>\n",
       "      <td>1.0</td>\n",
       "      <td>0</td>\n",
       "      <td>2023-05-31</td>\n",
       "      <td>True</td>\n",
       "    </tr>\n",
       "    <tr>\n",
       "      <th>56402</th>\n",
       "      <td>1685514383</td>\n",
       "      <td>user_10664</td>\n",
       "      <td>13</td>\n",
       "      <td>A</td>\n",
       "      <td>Москва</td>\n",
       "      <td>17.0</td>\n",
       "      <td>1</td>\n",
       "      <td>2023-05-31</td>\n",
       "      <td>True</td>\n",
       "    </tr>\n",
       "    <tr>\n",
       "      <th>56403</th>\n",
       "      <td>1685481325</td>\n",
       "      <td>user_3537</td>\n",
       "      <td>0</td>\n",
       "      <td>B</td>\n",
       "      <td>Ярославь</td>\n",
       "      <td>19.0</td>\n",
       "      <td>0</td>\n",
       "      <td>2023-05-31</td>\n",
       "      <td>True</td>\n",
       "    </tr>\n",
       "    <tr>\n",
       "      <th>56404</th>\n",
       "      <td>1685528033</td>\n",
       "      <td>user_6637</td>\n",
       "      <td>0</td>\n",
       "      <td>B</td>\n",
       "      <td>Москва</td>\n",
       "      <td>19.0</td>\n",
       "      <td>0</td>\n",
       "      <td>2023-05-31</td>\n",
       "      <td>True</td>\n",
       "    </tr>\n",
       "  </tbody>\n",
       "</table>\n",
       "</div>"
      ],
      "text/plain": [
       "        timestamp     id_user  sum_payment group             city  id_product  \\\n",
       "56400  1685485266  user_10740            0     A  Санкт-Петербург        14.0   \n",
       "56401  1685481632   user_3589            0     B  Санкт-Петербург         1.0   \n",
       "56402  1685514383  user_10664           13     A           Москва        17.0   \n",
       "56403  1685481325   user_3537            0     B         Ярославь        19.0   \n",
       "56404  1685528033   user_6637            0     B           Москва        19.0   \n",
       "\n",
       "       is_pay        date  is_test  \n",
       "56400       0  2023-05-31     True  \n",
       "56401       0  2023-05-31     True  \n",
       "56402       1  2023-05-31     True  \n",
       "56403       0  2023-05-31     True  \n",
       "56404       0  2023-05-31     True  "
      ]
     },
     "execution_count": 18,
     "metadata": {},
     "output_type": "execute_result"
    }
   ],
   "source": [
    "df = pd.read_csv(\"ab_made_4.gzip\", compression='gzip')\n",
    "df['is_test'] = df['date'].apply(lambda x: x.split('-')[1][1]=='5')\n",
    "df.tail()"
   ]
  },
  {
   "cell_type": "code",
   "execution_count": 19,
   "metadata": {},
   "outputs": [],
   "source": [
    "df_train =df[df['group']=='A'] \n",
    "df_test = df[df['group']=='B']"
   ]
  },
  {
   "cell_type": "code",
   "execution_count": 20,
   "metadata": {},
   "outputs": [
    {
     "data": {
      "text/plain": [
       "(15389, 15257)"
      ]
     },
     "execution_count": 20,
     "metadata": {},
     "output_type": "execute_result"
    }
   ],
   "source": [
    "len(df_train), len(df_test) # only old users"
   ]
  },
  {
   "cell_type": "code",
   "execution_count": 21,
   "metadata": {},
   "outputs": [
    {
     "data": {
      "text/plain": [
       "<matplotlib.legend.Legend at 0x7f96e7ffa2e8>"
      ]
     },
     "execution_count": 21,
     "metadata": {},
     "output_type": "execute_result"
    },
    {
     "data": {
      "image/png": "[encoded data removed]",
      "text/plain": [
       "<Figure size 432x288 with 1 Axes>"
      ]
     },
     "metadata": {
      "needs_background": "light"
     },
     "output_type": "display_data"
    }
   ],
   "source": [
    "def metric(df, before=False):\n",
    "    dates = df.groupby('id_user')['date'].min()\n",
    "    dates_begin = pd.DataFrame(dates).reset_index()\n",
    "    dates_begin.rename(columns={'date': 'start'}, inplace=True)\n",
    "    dates_begin['start'] = pd.to_datetime(dates_begin['start'])\n",
    "    dates_begin['end'] = dates_begin['start'].apply(lambda x: x + datetime.timedelta(days=7))\n",
    "    if before:\n",
    "        dates_begin = dates_begin[dates_begin['start'] < before]\n",
    "    ddf = df.merge(dates_begin, left_on='id_user', right_on='id_user', how='left')\n",
    "    return ddf[ddf['date'].between(ddf['start'], ddf['end'])].groupby('id_user')['sum_payment'].sum().reset_index()\n",
    "\n",
    "m = metric(df_test)\n",
    "weeks_b = m['sum_payment'].values\n",
    "ma = metric(df_train)\n",
    "weeks_a = ma['sum_payment'].values\n",
    "plt.hist(weeks_b, bins=25, alpha=0.5, label='B')\n",
    "plt.hist(weeks_a, bins=100, alpha=0.5, label='A')\n",
    "plt.xlim(0, 150)\n",
    "plt.legend()"
   ]
  },
  {
   "cell_type": "code",
   "execution_count": 22,
   "metadata": {},
   "outputs": [
    {
     "data": {
      "text/plain": [
       "(0.841333333333333, 0.06661564042334184)"
      ]
     },
     "execution_count": 22,
     "metadata": {},
     "output_type": "execute_result"
    }
   ],
   "source": [
    "np.mean(weeks_b) - np.mean(weeks_a),  (np.mean(weeks_b) - np.mean(weeks_a))/ np.mean(weeks_a)# effect"
   ]
  },
  {
   "cell_type": "code",
   "execution_count": 31,
   "metadata": {},
   "outputs": [],
   "source": [
    "from scipy.stats import ttest_ind"
   ]
  },
  {
   "cell_type": "code",
   "execution_count": 32,
   "metadata": {},
   "outputs": [
    {
     "data": {
      "text/plain": [
       "Ttest_indResult(statistic=2.074391270327744, pvalue=0.9809673592430435)"
      ]
     },
     "execution_count": 32,
     "metadata": {},
     "output_type": "execute_result"
    }
   ],
   "source": [
    "ttest_ind(weeks_b, weeks_a, alternative='less') "
   ]
  },
  {
   "cell_type": "code",
   "execution_count": 33,
   "metadata": {},
   "outputs": [
    {
     "data": {
      "text/plain": [
       "Ttest_indResult(statistic=2.074391270327744, pvalue=0.019032640756956504)"
      ]
     },
     "execution_count": 33,
     "metadata": {},
     "output_type": "execute_result"
    }
   ],
   "source": [
    "ttest_ind(weeks_b, weeks_a, alternative='greater') "
   ]
  },
  {
   "cell_type": "code",
   "execution_count": 34,
   "metadata": {},
   "outputs": [],
   "source": [
    "p_values = []\n",
    "for d in sorted(list(set(pd.to_datetime(df_test['date']).values))):\n",
    "    weeks_b = metric(df_test, d)['sum_payment'].values\n",
    "    p_values.append(ttest_ind(weeks_b, weeks_a, alternative='greater').pvalue)\n",
    "#     p_values.append(ttest_ind(weeks_b, weeks_a, alternative='two-sided').pvalue)"
   ]
  },
  {
   "cell_type": "code",
   "execution_count": 40,
   "metadata": {
    "scrolled": false
   },
   "outputs": [
    {
     "data": {
      "text/plain": [
       "[<matplotlib.lines.Line2D at 0x7f96e53d9240>]"
      ]
     },
     "execution_count": 40,
     "metadata": {},
     "output_type": "execute_result"
    },
    {
     "data": {
      "image/png": "[encoded data removed]",
      "text/plain": [
       "<Figure size 432x288 with 1 Axes>"
      ]
     },
     "metadata": {
      "needs_background": "light"
     },
     "output_type": "display_data"
    }
   ],
   "source": [
    "plt.plot(list(range(len(p_values))), p_values)\n",
    "plt.plot([0, 30], [0.05, 0.05]) # no less 7 days"
   ]
  },
  {
   "cell_type": "code",
   "execution_count": null,
   "metadata": {},
   "outputs": [],
   "source": []
  }
 ],
 "metadata": {
  "kernelspec": {
   "display_name": "Python 3",
   "language": "python",
   "name": "python3"
  },
  "language_info": {
   "codemirror_mode": {
    "name": "ipython",
    "version": 3
   },
   "file_extension": ".py",
   "mimetype": "text/x-python",
   "name": "python",
   "nbconvert_exporter": "python",
   "pygments_lexer": "ipython3",
   "version": "3.7.3"
  }
 },
 "nbformat": 4,
 "nbformat_minor": 5
}
