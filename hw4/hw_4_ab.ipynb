{
 "cells": [
  {
   "cell_type": "code",
   "execution_count": 1,
   "id": "c3ba6014",
   "metadata": {},
   "outputs": [],
   "source": [
    "import matplotlib.pyplot as plt\n",
    "import pandas as pd\n",
    "import numpy as np\n",
    "import datetime"
   ]
  },
  {
   "cell_type": "markdown",
   "id": "99addf7a",
   "metadata": {},
   "source": [
    "Метрика: средний доход от пользователя за 1 неделю после первого показа ему рекомендации на 10% (после начала A/B теста время первого показа ищется снова)\n",
    "\n",
    "Важная информация:\n",
    "Эксперимент начинается 2023-05-01. Данные есть до 2023-06-01 (но можно завершить раньше, если это позволит оценка длительности)\n",
    "Вам сказали, что его длительность должна составить 1 месяц.\n",
    "Все покупки, которые вызваны не влиянием рекомендаций, в этом логе не учитываются\n",
    "\n",
    "Описание данных:\n",
    "id_product -  идентификатор продукта, который был рекомендован\n",
    "is_pay - купил ли пользователь товар\n",
    "sum_payment - размер платежа (0, если не купил)\n",
    "city - город, в котором находится пользователь\n",
    "id_user - пользователь\n",
    "timestamp - timestamp события\n",
    "date - дата события\n",
    "\n",
    "Задачи, которые необходимо решить:\n",
    "Оценить длительность теста на момент его начала. Сравнить с предложенной. Для оценки необходимо использовать данные с пред экспериментального периода. Посмотреть, есть ли выбросы в данных.\n",
    "Построить методику расчета целевой метрики. Рассчитать целевую метрику на день окончания теста (рассчитанной в п1) для группы A и B, рассчитать эффект, p_value. Посмотреть, есть ли выбросы в данных.\n",
    "Рассчитать метрики из п2 по дням и построить их графики.\n",
    "Принять решение о результате теста - обосновать.\n",
    "\n",
    "Дополнительно:\n",
    "При подсчете метрик обработать выбросы в данных - описать почему их можно удалить из теста, если они удаляются. Пожалуйста, не заглядывайте в будущее по данным, если рассчитанная длительность меньше предоставленных данных."
   ]
  },
  {
   "cell_type": "code",
   "execution_count": 2,
   "id": "3f8140ad",
   "metadata": {},
   "outputs": [
    {
     "data": {
      "text/html": [
       "<div>\n",
       "<style scoped>\n",
       "    .dataframe tbody tr th:only-of-type {\n",
       "        vertical-align: middle;\n",
       "    }\n",
       "\n",
       "    .dataframe tbody tr th {\n",
       "        vertical-align: top;\n",
       "    }\n",
       "\n",
       "    .dataframe thead th {\n",
       "        text-align: right;\n",
       "    }\n",
       "</style>\n",
       "<table border=\"1\" class=\"dataframe\">\n",
       "  <thead>\n",
       "    <tr style=\"text-align: right;\">\n",
       "      <th></th>\n",
       "      <th>timestamp</th>\n",
       "      <th>id_user</th>\n",
       "      <th>sum_payment</th>\n",
       "      <th>group</th>\n",
       "      <th>city</th>\n",
       "      <th>id_product</th>\n",
       "      <th>is_pay</th>\n",
       "      <th>date</th>\n",
       "      <th>is_test</th>\n",
       "    </tr>\n",
       "  </thead>\n",
       "  <tbody>\n",
       "    <tr>\n",
       "      <th>0</th>\n",
       "      <td>1680330573</td>\n",
       "      <td>user_9903</td>\n",
       "      <td>27</td>\n",
       "      <td>NaN</td>\n",
       "      <td>Санкт-Петербург</td>\n",
       "      <td>4.0</td>\n",
       "      <td>1</td>\n",
       "      <td>2023-04-01</td>\n",
       "      <td>False</td>\n",
       "    </tr>\n",
       "    <tr>\n",
       "      <th>1</th>\n",
       "      <td>1680332652</td>\n",
       "      <td>user_6732</td>\n",
       "      <td>0</td>\n",
       "      <td>NaN</td>\n",
       "      <td>Рязань</td>\n",
       "      <td>1.0</td>\n",
       "      <td>0</td>\n",
       "      <td>2023-04-01</td>\n",
       "      <td>False</td>\n",
       "    </tr>\n",
       "    <tr>\n",
       "      <th>2</th>\n",
       "      <td>1680378039</td>\n",
       "      <td>user_4199</td>\n",
       "      <td>0</td>\n",
       "      <td>NaN</td>\n",
       "      <td>Москва</td>\n",
       "      <td>3.0</td>\n",
       "      <td>0</td>\n",
       "      <td>2023-04-01</td>\n",
       "      <td>False</td>\n",
       "    </tr>\n",
       "    <tr>\n",
       "      <th>3</th>\n",
       "      <td>1680337580</td>\n",
       "      <td>user_3606</td>\n",
       "      <td>12</td>\n",
       "      <td>NaN</td>\n",
       "      <td>Санкт-Петербург</td>\n",
       "      <td>7.0</td>\n",
       "      <td>1</td>\n",
       "      <td>2023-04-01</td>\n",
       "      <td>False</td>\n",
       "    </tr>\n",
       "    <tr>\n",
       "      <th>4</th>\n",
       "      <td>1680334389</td>\n",
       "      <td>user_9519</td>\n",
       "      <td>0</td>\n",
       "      <td>NaN</td>\n",
       "      <td>Санкт-Петербург</td>\n",
       "      <td>14.0</td>\n",
       "      <td>0</td>\n",
       "      <td>2023-04-01</td>\n",
       "      <td>False</td>\n",
       "    </tr>\n",
       "  </tbody>\n",
       "</table>\n",
       "</div>"
      ],
      "text/plain": [
       "    timestamp    id_user  sum_payment group             city  id_product  \\\n",
       "0  1680330573  user_9903           27   NaN  Санкт-Петербург         4.0   \n",
       "1  1680332652  user_6732            0   NaN           Рязань         1.0   \n",
       "2  1680378039  user_4199            0   NaN           Москва         3.0   \n",
       "3  1680337580  user_3606           12   NaN  Санкт-Петербург         7.0   \n",
       "4  1680334389  user_9519            0   NaN  Санкт-Петербург        14.0   \n",
       "\n",
       "   is_pay        date  is_test  \n",
       "0       1  2023-04-01    False  \n",
       "1       0  2023-04-01    False  \n",
       "2       0  2023-04-01    False  \n",
       "3       1  2023-04-01    False  \n",
       "4       0  2023-04-01    False  "
      ]
     },
     "execution_count": 2,
     "metadata": {},
     "output_type": "execute_result"
    }
   ],
   "source": [
    "df = pd.read_csv(\"ab_made_4.gzip\", compression='gzip')\n",
    "df['is_test'] = df['date'].apply(lambda x: x.split('-')[1][1]=='5')\n",
    "df.head()"
   ]
  },
  {
   "cell_type": "code",
   "execution_count": 3,
   "id": "7bf41ae2",
   "metadata": {},
   "outputs": [
    {
     "data": {
      "text/plain": [
       "[<matplotlib.lines.Line2D at 0x19d0fc60e20>]"
      ]
     },
     "execution_count": 3,
     "metadata": {},
     "output_type": "execute_result"
    },
    {
     "data": {
      "image/png": "[encoded data removed]",
      "text/plain": [
       "<Figure size 640x480 with 1 Axes>"
      ]
     },
     "metadata": {},
     "output_type": "display_data"
    }
   ],
   "source": [
    "plt.plot(df[df['is_test']==False].groupby('date')['sum_payment'].sum().values)"
   ]
  },
  {
   "cell_type": "code",
   "execution_count": 4,
   "id": "48ebf551",
   "metadata": {},
   "outputs": [
    {
     "data": {
      "text/plain": [
       "Text(0.5, 1.0, 'average daily sum_payment')"
      ]
     },
     "execution_count": 4,
     "metadata": {},
     "output_type": "execute_result"
    },
    {
     "data": {
      "image/png": "[encoded data removed]",
      "text/plain": [
       "<Figure size 640x480 with 1 Axes>"
      ]
     },
     "metadata": {},
     "output_type": "display_data"
    }
   ],
   "source": [
    "plt.plot(df[df['is_test']==False].groupby('date')['sum_payment'].sum()/df[df['is_test']==False].groupby('date')['id_user'].count())#.values\n",
    "plt.title('average daily sum_payment')"
   ]
  },
  {
   "cell_type": "code",
   "execution_count": 34,
   "id": "20aa65c9",
   "metadata": {},
   "outputs": [],
   "source": [
    "df[df['date']=='2023-04-01']['sum_payment'].mean()\n",
    "df = df[df['date']!='2023-04-01']"
   ]
  },
  {
   "cell_type": "code",
   "execution_count": 35,
   "id": "ede5e4e0",
   "metadata": {},
   "outputs": [
    {
     "name": "stderr",
     "output_type": "stream",
     "text": [
      "C:\\Users\\death\\AppData\\Local\\Temp\\ipykernel_1776\\616510032.py:2: UserWarning: Boolean Series key will be reindexed to match DataFrame index.\n",
      "  df_test = df[df['is_test']==True][df['id_user'].isin(df_train['id_user'].values)]\n"
     ]
    }
   ],
   "source": [
    "df_train =df[df['is_test']==False] \n",
    "df_test = df[df['is_test']==True][df['id_user'].isin(df_train['id_user'].values)]"
   ]
  },
  {
   "cell_type": "code",
   "execution_count": 36,
   "id": "bab8884c",
   "metadata": {},
   "outputs": [
    {
     "name": "stderr",
     "output_type": "stream",
     "text": [
      "C:\\Users\\death\\AppData\\Local\\Temp\\ipykernel_1776\\1239120027.py:1: SettingWithCopyWarning: \n",
      "A value is trying to be set on a copy of a slice from a DataFrame.\n",
      "Try using .loc[row_indexer,col_indexer] = value instead\n",
      "\n",
      "See the caveats in the documentation: https://pandas.pydata.org/pandas-docs/stable/user_guide/indexing.html#returning-a-view-versus-a-copy\n",
      "  df_train['week'] = pd.to_datetime(df_train['date']).apply(lambda x: x.isocalendar()[1])\n"
     ]
    },
    {
     "data": {
      "text/plain": [
       "(array([9.121e+03, 7.100e+01, 2.089e+03, 5.550e+02, 5.240e+02, 8.190e+02,\n",
       "        7.070e+02, 9.500e+01, 1.370e+02, 1.310e+02, 7.900e+01, 5.700e+01,\n",
       "        5.100e+01, 3.000e+01, 1.900e+01, 1.000e+01, 1.100e+01, 5.000e+00,\n",
       "        5.000e+00, 1.000e+00, 6.000e+00, 0.000e+00, 1.000e+00, 0.000e+00,\n",
       "        1.000e+00]),\n",
       " array([  0.  ,   5.48,  10.96,  16.44,  21.92,  27.4 ,  32.88,  38.36,\n",
       "         43.84,  49.32,  54.8 ,  60.28,  65.76,  71.24,  76.72,  82.2 ,\n",
       "         87.68,  93.16,  98.64, 104.12, 109.6 , 115.08, 120.56, 126.04,\n",
       "        131.52, 137.  ]),\n",
       " <BarContainer object of 25 artists>)"
      ]
     },
     "execution_count": 36,
     "metadata": {},
     "output_type": "execute_result"
    },
    {
     "data": {
      "image/png": "[encoded data removed]",
      "text/plain": [
       "<Figure size 640x480 with 1 Axes>"
      ]
     },
     "metadata": {},
     "output_type": "display_data"
    }
   ],
   "source": [
    "df_train['week'] = pd.to_datetime(df_train['date']).apply(lambda x: x.isocalendar()[1])\n",
    "plt.hist(df_train.groupby(['week', 'id_user'])['sum_payment'].sum().values, bins=25)"
   ]
  },
  {
   "cell_type": "code",
   "execution_count": 37,
   "id": "011441ac",
   "metadata": {},
   "outputs": [
    {
     "data": {
      "text/plain": [
       "(30646, 25444)"
      ]
     },
     "execution_count": 37,
     "metadata": {},
     "output_type": "execute_result"
    }
   ],
   "source": [
    "len(df[df['is_test']==True]), len(df_test) # only old users"
   ]
  },
  {
   "cell_type": "code",
   "execution_count": 79,
   "id": "cf630c02",
   "metadata": {},
   "outputs": [
    {
     "data": {
      "text/plain": [
       "(array([5.37e+03, 1.71e+03, 5.46e+02, 9.00e+02, 6.91e+02, 1.76e+02,\n",
       "        2.24e+02, 1.22e+02, 7.40e+01, 4.70e+01, 2.90e+01, 1.80e+01,\n",
       "        9.00e+00, 5.00e+00, 4.00e+00, 4.00e+00, 6.00e+00, 0.00e+00,\n",
       "        1.00e+00, 1.00e+00, 2.00e+00, 2.00e+00, 0.00e+00, 1.00e+00,\n",
       "        1.00e+00]),\n",
       " array([  0.  ,   8.12,  16.24,  24.36,  32.48,  40.6 ,  48.72,  56.84,\n",
       "         64.96,  73.08,  81.2 ,  89.32,  97.44, 105.56, 113.68, 121.8 ,\n",
       "        129.92, 138.04, 146.16, 154.28, 162.4 , 170.52, 178.64, 186.76,\n",
       "        194.88, 203.  ]),\n",
       " <BarContainer object of 25 artists>)"
      ]
     },
     "execution_count": 79,
     "metadata": {},
     "output_type": "execute_result"
    },
    {
     "data": {
      "image/png": "[encoded data removed]",
      "text/plain": [
       "<Figure size 640x480 with 1 Axes>"
      ]
     },
     "metadata": {},
     "output_type": "display_data"
    }
   ],
   "source": [
    "def metric(df, before=False):\n",
    "    dates = df.groupby('id_user')['date'].min()\n",
    "    dates_begin = pd.DataFrame(dates).reset_index()\n",
    "    dates_begin.rename(columns={'date': 'start'}, inplace=True)\n",
    "    dates_begin['start'] = pd.to_datetime(dates_begin['start'])\n",
    "    dates_begin['end'] = dates_begin['start'].apply(lambda x: x + datetime.timedelta(days=7))\n",
    "    if before:\n",
    "        dates_begin = dates_begin[dates_begin['start'] < before]\n",
    "    ddf = df.merge(dates_begin, left_on='id_user', right_on='id_user', how='left')\n",
    "    return ddf[ddf['date'].between(ddf['start'], ddf['end'])].groupby('id_user')['sum_payment'].sum().reset_index()\n",
    "\n",
    "m = metric(df_test)\n",
    "plt.hist(m['sum_payment'].values, bins=25)"
   ]
  },
  {
   "cell_type": "code",
   "execution_count": 39,
   "id": "e5299ec6",
   "metadata": {},
   "outputs": [],
   "source": [
    "weeks_a = metric(df_train)['sum_payment'].values\n",
    "weeks_b = m['sum_payment'].values"
   ]
  },
  {
   "cell_type": "code",
   "execution_count": 86,
   "id": "1ed82b02",
   "metadata": {},
   "outputs": [
    {
     "data": {
      "text/plain": [
       "(1.7955290317885453, 0.16057117177897454)"
      ]
     },
     "execution_count": 86,
     "metadata": {},
     "output_type": "execute_result"
    }
   ],
   "source": [
    "np.mean(weeks_b) - np.mean(weeks_a),  (np.mean(weeks_b) - np.mean(weeks_a))/ np.mean(weeks_a)# effect"
   ]
  },
  {
   "cell_type": "code",
   "execution_count": 41,
   "id": "33349830",
   "metadata": {},
   "outputs": [],
   "source": [
    "from scipy.stats import ttest_ind"
   ]
  },
  {
   "cell_type": "code",
   "execution_count": 72,
   "id": "3a8365bf",
   "metadata": {},
   "outputs": [
    {
     "data": {
      "text/plain": [
       "Ttest_indResult(statistic=6.693526337022939, pvalue=0.9999999999888167)"
      ]
     },
     "execution_count": 72,
     "metadata": {},
     "output_type": "execute_result"
    }
   ],
   "source": [
    "ttest_ind(weeks_b, weeks_a, alternative='less') # не отвергаем гипотезу, что стало меньше"
   ]
  },
  {
   "cell_type": "code",
   "execution_count": 73,
   "id": "6a227888",
   "metadata": {},
   "outputs": [
    {
     "data": {
      "text/plain": [
       "Ttest_indResult(statistic=6.693526337022939, pvalue=1.1183237642309179e-11)"
      ]
     },
     "execution_count": 73,
     "metadata": {},
     "output_type": "execute_result"
    }
   ],
   "source": [
    "ttest_ind(weeks_b, weeks_a, alternative='greater') # отвергаем гипотезу, что стало лучше на всех данных"
   ]
  },
  {
   "cell_type": "code",
   "execution_count": 80,
   "id": "d76bd282",
   "metadata": {},
   "outputs": [],
   "source": [
    "p_values = []\n",
    "for d in sorted(list(set(pd.to_datetime(df_test['date']).values))):\n",
    "    weeks_b = metric(df_test, d)['sum_payment'].values\n",
    "    p_values.append(ttest_ind(weeks_b, weeks_a, alternative='greater').pvalue)\n",
    "#     p_values.append(ttest_ind(weeks_b, weeks_a, alternative='two-sided').pvalue)"
   ]
  },
  {
   "cell_type": "code",
   "execution_count": 81,
   "id": "68d8307c",
   "metadata": {
    "scrolled": false
   },
   "outputs": [
    {
     "data": {
      "text/plain": [
       "[<matplotlib.lines.Line2D at 0x19d1457e040>]"
      ]
     },
     "execution_count": 81,
     "metadata": {},
     "output_type": "execute_result"
    },
    {
     "data": {
      "image/png": "[encoded data removed]",
      "text/plain": [
       "<Figure size 640x480 with 1 Axes>"
      ]
     },
     "metadata": {},
     "output_type": "display_data"
    }
   ],
   "source": [
    "plt.plot(list(range(len(p_values))), p_values)\n",
    "plt.plot([0, 30], [0.05, 0.05]) # no less 7 days"
   ]
  },
  {
   "cell_type": "code",
   "execution_count": 100,
   "id": "79ce5ce4",
   "metadata": {},
   "outputs": [
    {
     "data": {
      "text/plain": [
       "0.2577735580346546"
      ]
     },
     "execution_count": 100,
     "metadata": {},
     "output_type": "execute_result"
    }
   ],
   "source": [
    "sum(df_train['is_pay'])/ len(df_train) # посмотреть на 600 человек"
   ]
  },
  {
   "cell_type": "code",
   "execution_count": 101,
   "id": "aadeab6f",
   "metadata": {},
   "outputs": [
    {
     "data": {
      "text/plain": [
       "start\n",
       "2023-05-01      39\n",
       "2023-05-02     141\n",
       "2023-05-03     243\n",
       "2023-05-04     284\n",
       "2023-05-05     434\n",
       "2023-05-06     458\n",
       "2023-05-07     461\n",
       "2023-05-08     594\n",
       "2023-05-09     566\n",
       "2023-05-10     590\n",
       "2023-05-11     695\n",
       "2023-05-12     706\n",
       "2023-05-13     739\n",
       "2023-05-14     768\n",
       "2023-05-15     789\n",
       "2023-05-16     727\n",
       "2023-05-17     860\n",
       "2023-05-18     923\n",
       "2023-05-19     944\n",
       "2023-05-20     978\n",
       "2023-05-21    1036\n",
       "2023-05-22    1144\n",
       "2023-05-23    1013\n",
       "2023-05-24    1107\n",
       "2023-05-25    1215\n",
       "2023-05-26    1305\n",
       "2023-05-27    1098\n",
       "2023-05-28    1252\n",
       "2023-05-29    1237\n",
       "2023-05-30    1474\n",
       "2023-05-31    1624\n",
       "Name: id_user, dtype: int64"
      ]
     },
     "execution_count": 101,
     "metadata": {},
     "output_type": "execute_result"
    }
   ],
   "source": [
    "# np.cumsum(df_test.groupby('date')['id_user'].count())#.values\n",
    "dates = df_test.groupby('id_user')['date'].min()\n",
    "dates_begin = pd.DataFrame(dates).reset_index()\n",
    "dates_begin.rename(columns={'date': 'start'}, inplace=True)\n",
    "# dates_begin['start'] = pd.to_datetime(dates_begin['start'])\n",
    "# dates_begin['end'] = dates_begin['start'].apply(lambda x: x + datetime.timedelta(days=7))\n",
    "ddf = df_test.merge(dates_begin, left_on='id_user', right_on='id_user', how='left')\n",
    "ddf.groupby('start')['id_user'].count()"
   ]
  },
  {
   "cell_type": "code",
   "execution_count": 102,
   "id": "6f3dc820",
   "metadata": {},
   "outputs": [
    {
     "data": {
      "text/plain": [
       "0.8254933279088279"
      ]
     },
     "execution_count": 102,
     "metadata": {},
     "output_type": "execute_result"
    }
   ],
   "source": [
    "p_values[11]"
   ]
  },
  {
   "cell_type": "code",
   "execution_count": null,
   "id": "21452dc8",
   "metadata": {},
   "outputs": [],
   "source": []
  }
 ],
 "metadata": {
  "kernelspec": {
   "display_name": "Python 3 (ipykernel)",
   "language": "python",
   "name": "python3"
  },
  "language_info": {
   "codemirror_mode": {
    "name": "ipython",
    "version": 3
   },
   "file_extension": ".py",
   "mimetype": "text/x-python",
   "name": "python",
   "nbconvert_exporter": "python",
   "pygments_lexer": "ipython3",
   "version": "3.9.13"
  }
 },
 "nbformat": 4,
 "nbformat_minor": 5
}
