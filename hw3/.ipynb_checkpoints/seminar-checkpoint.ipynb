{
 "cells": [
  {
   "cell_type": "code",
   "execution_count": null,
   "metadata": {},
   "outputs": [],
   "source": [
    "import numpy as np\n",
    "import pandas as pd\n",
    "import scipy.stats as sps\n",
    "import plotly.graph_objs as go"
   ]
  },
  {
   "cell_type": "markdown",
   "metadata": {
    "tags": []
   },
   "source": [
    "# Доп функции"
   ]
  },
  {
   "cell_type": "code",
   "execution_count": null,
   "metadata": {},
   "outputs": [],
   "source": [
    "def get_qq_plot(p_values):\n",
    "    \"\"\"Рисует распределение p-value\"\"\"\n",
    "    p_values = np.array(p_values)\n",
    "    probs = []\n",
    "    x = [0.01 * i for i in range(101)]\n",
    "    for i in range(101):\n",
    "        alpha_step = 0.01 * i\n",
    "        probs.append(p_values[p_values < alpha_step].shape[0] / p_values.shape[0])\n",
    "    fig = go.Figure([go.Scatter(x=x, y=probs, mode=\"markers\", name=\"p_value\"),\n",
    "                 go.Scatter(x=x, y=x, mode=\"lines\", name=\"uniform\")])\n",
    "    fig.update_layout(height=600, width=600, title=\"Q-Q plot\") \n",
    "    return fig"
   ]
  },
  {
   "cell_type": "code",
   "execution_count": null,
   "metadata": {},
   "outputs": [],
   "source": [
    "def get_power(p_values, alpha=0.05):\n",
    "    \"\"\"Оценка мощности критерия, при условии, что значения p_value взяты при наличии \n",
    "    различий в сравниваемых выборках \n",
    "    \"\"\"\n",
    "    p_values = np.array(p_values)\n",
    "    return p_values[p_values < alpha].shape[0] / p_values.shape[0] * 100"
   ]
  },
  {
   "cell_type": "markdown",
   "metadata": {
    "tags": []
   },
   "source": [
    "# Длительность"
   ]
  },
  {
   "cell_type": "code",
   "execution_count": null,
   "metadata": {},
   "outputs": [],
   "source": [
    "def duration(k, delta_effect, sigma_1, sigma_2, alpha=0.05, beta=0.2):\n",
    "    z = sps.norm.ppf(1 - alpha/2) + sps.norm.ppf(1-beta)\n",
    "    n = (k+1) * z ** 2 * (sigma_1 ** 2 + sigma_2 **2 / k) / (delta_effect ** 2)\n",
    "    return n"
   ]
  },
  {
   "cell_type": "code",
   "execution_count": null,
   "metadata": {},
   "outputs": [],
   "source": [
    "duration(k=1, delta_effect=10, sigma_1=140, sigma_2=140, alpha=0.1, beta=0.2)"
   ]
  },
  {
   "cell_type": "markdown",
   "metadata": {},
   "source": [
    "##### Случай для конверсии"
   ]
  },
  {
   "cell_type": "code",
   "execution_count": null,
   "metadata": {},
   "outputs": [],
   "source": [
    "p = 0.005"
   ]
  },
  {
   "cell_type": "code",
   "execution_count": null,
   "metadata": {},
   "outputs": [],
   "source": [
    "duration(k=1, delta_effect=0.0001, sigma_1=p*(1-p), sigma_2=p*(1-p), alpha=0.05)"
   ]
  },
  {
   "cell_type": "markdown",
   "metadata": {},
   "source": [
    "# Ratio-метрика + Линеаризация"
   ]
  },
  {
   "cell_type": "markdown",
   "metadata": {},
   "source": [
    "Дальше приведены 2 блока кода: в пером в генерируемых выборках нет изменений, во втором - изменения есть"
   ]
  },
  {
   "cell_type": "markdown",
   "metadata": {},
   "source": [
    "##### Изменений нет"
   ]
  },
  {
   "cell_type": "code",
   "execution_count": null,
   "metadata": {},
   "outputs": [],
   "source": [
    "%%time\n",
    "n_exp = 1000\n",
    "p_values = []\n",
    "p_values_lin = []\n",
    "for _ in range(n_exp):\n",
    "    records = []\n",
    "    for i in range(100):\n",
    "        n_views = int(sps.expon.rvs(loc=100, scale=100))\n",
    "        clicks = sps.bernoulli.rvs(p=0.05, size=n_views)\n",
    "        records.append([n_views, np.sum(clicks), np.sum(clicks)/ n_views, \"A\"])\n",
    "    for i in range(100):\n",
    "        n_views = int(sps.expon.rvs(loc=100, scale=100))\n",
    "        clicks = sps.bernoulli.rvs(p=0.05, size=n_views)\n",
    "        records.append([n_views, np.sum(clicks), np.sum(clicks)/ n_views, \"B\"])\n",
    "    df_data = pd.DataFrame(records, columns=[\"views\", \"clicks\", \"cr\", \"group\"])\n",
    "    \n",
    "    cr_A = df_data[df_data[\"group\"] == \"A\"][\"clicks\"].sum() / df_data[df_data[\"group\"] == \"A\"][\"views\"].sum()\n",
    "    df_data[\"cr_lin\"] = df_data[\"clicks\"] - cr_A * df_data[\"views\"]\n",
    "\n",
    "    x_a = df_data[df_data[\"group\"] == \"A\"][\"cr\"]\n",
    "    x_b = df_data[df_data[\"group\"] == \"B\"][\"cr\"]\n",
    "    p_value = sps.ttest_ind(x_a, x_b).pvalue\n",
    "    p_values.append(p_value)\n",
    "    \n",
    "    x_a_lin = df_data[df_data[\"group\"] == \"A\"][\"cr_lin\"]\n",
    "    x_b_lin = df_data[df_data[\"group\"] == \"B\"][\"cr_lin\"]\n",
    "    p_value_lin = sps.ttest_ind(x_a_lin, x_b_lin).pvalue\n",
    "    p_values_lin.append(p_value_lin)"
   ]
  },
  {
   "cell_type": "markdown",
   "metadata": {},
   "source": [
    "##### Оценка корректности"
   ]
  },
  {
   "cell_type": "code",
   "execution_count": null,
   "metadata": {},
   "outputs": [],
   "source": [
    "get_qq_plot(p_values)"
   ]
  },
  {
   "cell_type": "code",
   "execution_count": null,
   "metadata": {},
   "outputs": [],
   "source": [
    "get_qq_plot(p_values_lin)"
   ]
  },
  {
   "cell_type": "markdown",
   "metadata": {},
   "source": [
    "##### Изменения есть"
   ]
  },
  {
   "cell_type": "code",
   "execution_count": null,
   "metadata": {},
   "outputs": [],
   "source": [
    "%%time\n",
    "n_exp = 1000\n",
    "p_values = []\n",
    "p_values_lin = []\n",
    "for _ in range(n_exp):\n",
    "    records = []\n",
    "    for i in range(100):\n",
    "        n_views = int(sps.expon.rvs(loc=100, scale=100))\n",
    "        clicks = sps.bernoulli.rvs(p=0.05, size=n_views)\n",
    "        records.append([n_views, np.sum(clicks), np.sum(clicks)/ n_views, \"A\"])\n",
    "    for i in range(100):\n",
    "        n_views = int(sps.expon.rvs(loc=100, scale=100))\n",
    "        clicks = sps.bernoulli.rvs(p=0.055, size=n_views)\n",
    "        records.append([n_views, np.sum(clicks), np.sum(clicks)/ n_views, \"B\"])\n",
    "    df_data = pd.DataFrame(records, columns=[\"views\", \"clicks\", \"cr\", \"group\"])\n",
    "    cr_A = df_data[df_data[\"group\"] == \"A\"][\"clicks\"].sum() / df_data[df_data[\"group\"] == \"A\"][\"views\"].sum()\n",
    "    df_data[\"cr_lin\"] = df_data[\"clicks\"] - cr_A * df_data[\"views\"]\n",
    "\n",
    "    x_a = df_data[df_data[\"group\"] == \"A\"][\"cr\"]\n",
    "    x_b = df_data[df_data[\"group\"] == \"B\"][\"cr\"]\n",
    "    p_value = sps.ttest_ind(x_a, x_b).pvalue\n",
    "    p_values.append(p_value)\n",
    "    \n",
    "    x_a_lin = df_data[df_data[\"group\"] == \"A\"][\"cr_lin\"]\n",
    "    x_b_lin = df_data[df_data[\"group\"] == \"B\"][\"cr_lin\"]\n",
    "    p_value_lin = sps.ttest_ind(x_a_lin, x_b_lin).pvalue\n",
    "    p_values_lin.append(p_value_lin)"
   ]
  },
  {
   "cell_type": "markdown",
   "metadata": {},
   "source": [
    "##### Оценка мощности"
   ]
  },
  {
   "cell_type": "code",
   "execution_count": null,
   "metadata": {},
   "outputs": [],
   "source": [
    "get_power(p_values)"
   ]
  },
  {
   "cell_type": "code",
   "execution_count": null,
   "metadata": {},
   "outputs": [],
   "source": [
    "get_power(p_values_lin)"
   ]
  },
  {
   "cell_type": "markdown",
   "metadata": {},
   "source": [
    "# Стратификация"
   ]
  },
  {
   "cell_type": "code",
   "execution_count": null,
   "metadata": {
    "tags": []
   },
   "outputs": [],
   "source": [
    "def ttest_strat(df_A, df_B):\n",
    "    \"\"\"Функция для оценки стратифицированного среднего\"\"\"\n",
    "    T = df_A[\"payments\"].mean() - df_B[\"payments\"].mean()\n",
    "    D_A = (df_A.groupby(\"city\")[\"payments\"].std(ddof=1) ** 2 * df_A.groupby(\"city\")[\"payments\"].count() / (df_A.shape[0]**2)).sum()\n",
    "    D_B = (df_B.groupby(\"city\")[\"payments\"].std(ddof=1) ** 2 * df_B.groupby(\"city\")[\"payments\"].count() / (df_B.shape[0]**2)).sum()\n",
    "    \n",
    "    T = T / np.sqrt(D_A + D_B)\n",
    "\n",
    "    T = np.abs(T)\n",
    "    p_value = 2 * (1 - sps.norm.cdf(np.abs(T)))\n",
    "    return p_value"
   ]
  },
  {
   "cell_type": "markdown",
   "metadata": {},
   "source": [
    "##### Различий между выборками нет"
   ]
  },
  {
   "cell_type": "code",
   "execution_count": null,
   "metadata": {},
   "outputs": [],
   "source": [
    "%%time\n",
    "n_exp = 1000\n",
    "p_values = []\n",
    "p_values_strat = []\n",
    "size = 1000\n",
    "for _ in range(n_exp):\n",
    "    df_A = pd.DataFrame()\n",
    "    df_A[\"user\"] = [f\"A_{x:5}\" for x in range(size)]\n",
    "    df_A[\"city\"] = pd.Series([1]*int(size*0.3) + [0]*int(size*0.7)).map({0: \"Moscow\", 1: \"Tula\"})\n",
    "    mask_Moscow = df_A[\"city\"] == \"Moscow\"\n",
    "    df_A.loc[mask_Moscow, \"payments\"] = sps.norm.rvs(loc=100, scale=20, size=mask_Moscow.sum())\n",
    "    mask_Tula = df_A[\"city\"] == \"Tula\"\n",
    "    df_A.loc[mask_Tula, \"payments\"] = sps.norm.rvs(loc=80, scale=10, size=mask_Tula.sum()) \n",
    "    \n",
    "    df_B = pd.DataFrame()\n",
    "    df_B[\"user\"] = [f\"B_{x:5}\" for x in range(size)]\n",
    "    df_B[\"city\"] = pd.Series([1]*int(size*0.3) + [0]*int(size*0.7)).map({0: \"Moscow\", 1: \"Tula\"})\n",
    "#pd.Series(sps.bernoulli.rvs(p=0.3, size=size)).map({0: \"Moscow\", 1: \"Tula\"})\n",
    "    mask_Moscow = df_B[\"city\"] == \"Moscow\"\n",
    "    df_B.loc[mask_Moscow, \"payments\"] = sps.norm.rvs(loc=100, scale=20, size=mask_Moscow.sum())\n",
    "    mask_Tula = df_B[\"city\"] == \"Tula\"\n",
    "    df_B.loc[mask_Tula, \"payments\"] = sps.norm.rvs(loc=80, scale=10, size=mask_Tula.sum())\n",
    "    \n",
    "    p_values_strat.append(ttest_strat(df_A, df_B))\n",
    "    p_values.append(sps.ttest_ind(df_A[\"payments\"], df_B[\"payments\"]).pvalue)\n",
    "    \n",
    "    "
   ]
  },
  {
   "cell_type": "markdown",
   "metadata": {},
   "source": [
    "#### Оценка корректности"
   ]
  },
  {
   "cell_type": "code",
   "execution_count": null,
   "metadata": {},
   "outputs": [],
   "source": [
    "get_qq_plot(p_values)"
   ]
  },
  {
   "cell_type": "code",
   "execution_count": null,
   "metadata": {},
   "outputs": [],
   "source": [
    "get_qq_plot(p_values_strat)"
   ]
  },
  {
   "cell_type": "markdown",
   "metadata": {},
   "source": [
    "##### Есть различия в выборках"
   ]
  },
  {
   "cell_type": "code",
   "execution_count": null,
   "metadata": {},
   "outputs": [],
   "source": [
    "%%time\n",
    "n_exp = 1000\n",
    "p_values = []\n",
    "p_values_strat = []\n",
    "size = 1000\n",
    "for _ in range(n_exp):\n",
    "    df_A = pd.DataFrame()\n",
    "    df_A[\"user\"] = [f\"A_{x:5}\" for x in range(size)]\n",
    "    df_A[\"city\"] = pd.Series([1]*int(size*0.3) + [0]*int(size*0.7)).map({0: \"Moscow\", 1: \"Tula\"})\n",
    "    mask_Moscow = df_A[\"city\"] == \"Moscow\"\n",
    "    df_A.loc[mask_Moscow, \"payments\"] = sps.norm.rvs(loc=100, scale=20, size=mask_Moscow.sum())\n",
    "    mask_Tula = df_A[\"city\"] == \"Tula\"\n",
    "    df_A.loc[mask_Tula, \"payments\"] = sps.norm.rvs(loc=80, scale=10, size=mask_Tula.sum()) \n",
    "    \n",
    "    df_B = pd.DataFrame()\n",
    "    df_B[\"user\"] = [f\"B_{x:5}\" for x in range(size)]\n",
    "    df_B[\"city\"] = pd.Series([1]*int(size*0.3) + [0]*int(size*0.7)).map({0: \"Moscow\", 1: \"Tula\"})\n",
    "#pd.Series(sps.bernoulli.rvs(p=0.3, size=size)).map({0: \"Moscow\", 1: \"Tula\"})\n",
    "    mask_Moscow = df_B[\"city\"] == \"Moscow\"\n",
    "    df_B.loc[mask_Moscow, \"payments\"] = sps.norm.rvs(loc=103, scale=20, size=mask_Moscow.sum())\n",
    "    mask_Tula = df_B[\"city\"] == \"Tula\"\n",
    "    df_B.loc[mask_Tula, \"payments\"] = sps.norm.rvs(loc=83, scale=10, size=mask_Tula.sum())\n",
    "    \n",
    "    p_values_strat.append(ttest_strat(df_A, df_B))\n",
    "    p_values.append(sps.ttest_ind(df_A[\"payments\"], df_B[\"payments\"]).pvalue)\n",
    "    \n",
    "    "
   ]
  },
  {
   "cell_type": "markdown",
   "metadata": {},
   "source": [
    "##### Оценка мощности"
   ]
  },
  {
   "cell_type": "code",
   "execution_count": null,
   "metadata": {},
   "outputs": [],
   "source": [
    "get_power(p_values)"
   ]
  },
  {
   "cell_type": "code",
   "execution_count": null,
   "metadata": {},
   "outputs": [],
   "source": [
    "get_power(p_values_strat)"
   ]
  },
  {
   "cell_type": "markdown",
   "metadata": {},
   "source": [
    "# CUPED"
   ]
  },
  {
   "cell_type": "markdown",
   "metadata": {},
   "source": [
    "Можно зафиксировать значение на начальных данных, тогда результаты будут корректнее. Работает лучше, если есть корреляция, иначе почти такой же результат."
   ]
  },
  {
   "cell_type": "markdown",
   "metadata": {},
   "source": [
    "##### Нет различий в выборках"
   ]
  },
  {
   "cell_type": "code",
   "execution_count": null,
   "metadata": {},
   "outputs": [],
   "source": [
    "%%time\n",
    "n_exp = 1000\n",
    "p_values = []\n",
    "p_values_cuped = []\n",
    "size = 1000\n",
    "\n",
    "# Pre_experiment\n",
    "pre_exp = sps.norm.rvs(loc=100, scale=20, size=size)\n",
    "for _ in range(n_exp):\n",
    "    \n",
    "    \n",
    "    \n",
    "    df_A = pd.DataFrame()\n",
    "    df_A[\"user\"] = [f\"A_{x:5}\" for x in range(size)]\n",
    "    df_A[\"pre_exp\"] = pre_exp\n",
    "    df_A[\"payments\"] = sps.expon.rvs(loc=100, scale=100, size=size)\n",
    "    \n",
    "    df_B = pd.DataFrame()\n",
    "    df_B[\"pre_exp\"] = pre_exp\n",
    "    df_B[\"user\"] = [f\"B_{x:5}\" for x in range(size)]\n",
    "    df_B[\"payments\"] = sps.expon.rvs(loc=100, scale=100, size=size)\n",
    "    \n",
    "    p_values.append(sps.ttest_ind(df_A[\"payments\"], df_B[\"payments\"]).pvalue)\n",
    "    \n",
    "    x_a = df_A[\"pre_exp\"]\n",
    "    x_b = df_B[\"pre_exp\"]\n",
    "    y_a = df_A[\"payments\"]\n",
    "    y_b = df_B[\"payments\"]\n",
    "    theta = np.cov(x_a, y_a)[0,1] / np.std(x_a)**2\n",
    "    \n",
    "    df_A[\"payments_cuped\"] = df_A[\"payments\"] - theta * df_A[\"pre_exp\"]\n",
    "    df_B[\"payments_cuped\"] = df_B[\"payments\"] - theta * df_B[\"pre_exp\"]\n",
    "    \n",
    "    p_values_cuped.append(sps.ttest_ind(df_A[\"payments_cuped\"], df_B[\"payments_cuped\"]).pvalue)\n",
    "    \n",
    "    "
   ]
  },
  {
   "cell_type": "markdown",
   "metadata": {},
   "source": [
    "##### Оценка корректности"
   ]
  },
  {
   "cell_type": "code",
   "execution_count": null,
   "metadata": {},
   "outputs": [],
   "source": [
    "get_qq_plot(p_values_cuped)"
   ]
  },
  {
   "cell_type": "markdown",
   "metadata": {},
   "source": [
    "##### Есть независимые изменения в выборках"
   ]
  },
  {
   "cell_type": "code",
   "execution_count": null,
   "metadata": {},
   "outputs": [],
   "source": [
    "%%time\n",
    "n_exp = 1000\n",
    "p_values = []\n",
    "p_values_cuped = []\n",
    "size = 1000\n",
    "\n",
    "# Pre_experiment\n",
    "pre_exp = sps.norm.rvs(loc=100, scale=20, size=size)\n",
    "for _ in range(n_exp):\n",
    "    \n",
    "    \n",
    "    \n",
    "    df_A = pd.DataFrame()\n",
    "    df_A[\"user\"] = [f\"A_{x:5}\" for x in range(size)]\n",
    "    df_A[\"pre_exp\"] = pre_exp\n",
    "    df_A[\"payments\"] = sps.expon.rvs(loc=100, scale=100, size=size)\n",
    "    \n",
    "    df_B = pd.DataFrame()\n",
    "    df_B[\"pre_exp\"] = pre_exp\n",
    "    df_B[\"user\"] = [f\"B_{x:5}\" for x in range(size)]\n",
    "    df_B[\"payments\"] = sps.expon.rvs(loc=110, scale=100, size=size)\n",
    "    \n",
    "    p_values.append(sps.ttest_ind(df_A[\"payments\"], df_B[\"payments\"]).pvalue)\n",
    "    \n",
    "    x_a = df_A[\"pre_exp\"]\n",
    "    x_b = df_B[\"pre_exp\"]\n",
    "    y_a = df_A[\"payments\"]\n",
    "    y_b = df_B[\"payments\"]\n",
    "    theta = np.cov(x_a, y_a)[0,1] / np.std(x_a)**2\n",
    "    \n",
    "    df_A[\"payments_cuped\"] = df_A[\"payments\"] - theta * df_A[\"pre_exp\"]\n",
    "    df_B[\"payments_cuped\"] = df_B[\"payments\"] - theta * df_B[\"pre_exp\"]\n",
    "    \n",
    "    p_values_cuped.append(sps.ttest_ind(df_A[\"payments_cuped\"], df_B[\"payments_cuped\"]).pvalue)\n",
    "    \n",
    "    "
   ]
  },
  {
   "cell_type": "code",
   "execution_count": null,
   "metadata": {},
   "outputs": [],
   "source": [
    "get_power(p_values)"
   ]
  },
  {
   "cell_type": "code",
   "execution_count": null,
   "metadata": {},
   "outputs": [],
   "source": [
    "get_power(p_values_cuped)"
   ]
  },
  {
   "cell_type": "markdown",
   "metadata": {},
   "source": [
    "##### Есть коррелирующие изменения в выборках"
   ]
  },
  {
   "cell_type": "code",
   "execution_count": null,
   "metadata": {},
   "outputs": [],
   "source": [
    "%%time\n",
    "n_exp = 1000\n",
    "p_values = []\n",
    "p_values_cuped = []\n",
    "size = 1000\n",
    "\n",
    "# Pre_experiment\n",
    "pre_exp = sps.norm.rvs(loc=100, scale=20, size=size)\n",
    "for _ in range(n_exp):\n",
    "    \n",
    "    \n",
    "    \n",
    "    df_A = pd.DataFrame()\n",
    "    df_A[\"user\"] = [f\"A_{x:5}\" for x in range(size)]\n",
    "    df_A[\"pre_exp\"] = pre_exp\n",
    "    df_A[\"payments\"] =  sps.norm.rvs(loc=1, scale=0.1, size=size) * df_A[\"pre_exp\"]\n",
    "    \n",
    "    df_B = pd.DataFrame()\n",
    "    df_B[\"pre_exp\"] = pre_exp\n",
    "    df_B[\"user\"] = [f\"B_{x:5}\" for x in range(size)]\n",
    "    df_B[\"payments\"] = sps.norm.rvs(loc=1.01, scale=0.1, size=size) * df_B[\"pre_exp\"]\n",
    "    \n",
    "    p_values.append(sps.ttest_ind(df_A[\"payments\"], df_B[\"payments\"]).pvalue)\n",
    "    \n",
    "    x_a = df_A[\"pre_exp\"]\n",
    "    x_b = df_B[\"pre_exp\"]\n",
    "    y_a = df_A[\"payments\"]\n",
    "    y_b = df_B[\"payments\"]\n",
    "    theta = np.cov(x_a, y_a)[0,1] / np.std(x_a)**2\n",
    "    \n",
    "    df_A[\"payments_cuped\"] = df_A[\"payments\"] - theta * df_A[\"pre_exp\"]\n",
    "    df_B[\"payments_cuped\"] = df_B[\"payments\"] - theta * df_B[\"pre_exp\"]\n",
    "    \n",
    "    p_values_cuped.append(sps.ttest_ind(df_A[\"payments_cuped\"], df_B[\"payments_cuped\"]).pvalue)\n",
    "    \n",
    "    "
   ]
  },
  {
   "cell_type": "code",
   "execution_count": null,
   "metadata": {},
   "outputs": [],
   "source": [
    "get_power(p_values)"
   ]
  },
  {
   "cell_type": "code",
   "execution_count": null,
   "metadata": {},
   "outputs": [],
   "source": [
    "get_power(p_values_cuped)"
   ]
  },
  {
   "cell_type": "markdown",
   "metadata": {},
   "source": [
    "# Выбросы"
   ]
  },
  {
   "cell_type": "code",
   "execution_count": null,
   "metadata": {},
   "outputs": [],
   "source": [
    "n_exp = 1000\n",
    "p_values = []\n",
    "p_values_log = []\n",
    "size = 1000\n",
    "\n",
    "for _ in range(n_exp):\n",
    "    x_a = np.append(sps.expon.rvs(loc=100, scale=100, size=size), np.array([1000, 2000]))\n",
    "    x_b = np.append(sps.expon.rvs(loc=100, scale=100, size=size), np.array([1000, 2000]))\n",
    "    x_a_log = np.log(x_a)\n",
    "    x_b_log = np.log(x_b)\n",
    "    \n",
    "    p_values.append(sps.ttest_ind(x_a, x_b).pvalue)\n",
    "    p_values_log.append(sps.ttest_ind(x_a_log, x_b_log).pvalue)"
   ]
  },
  {
   "cell_type": "code",
   "execution_count": null,
   "metadata": {},
   "outputs": [],
   "source": [
    "get_qq_plot(p_values)"
   ]
  },
  {
   "cell_type": "code",
   "execution_count": null,
   "metadata": {},
   "outputs": [],
   "source": [
    "get_qq_plot(p_values_log)"
   ]
  },
  {
   "cell_type": "markdown",
   "metadata": {},
   "source": [
    "##### Есть изменения в выборках"
   ]
  },
  {
   "cell_type": "code",
   "execution_count": null,
   "metadata": {},
   "outputs": [],
   "source": [
    "n_exp = 1000\n",
    "p_values = []\n",
    "p_values_log = []\n",
    "size = 1000\n",
    "\n",
    "for _ in range(n_exp):\n",
    "    x_a = np.append(sps.expon.rvs(loc=100, scale=100, size=size), np.array([1000, 2000]))\n",
    "    x_b = np.append(sps.expon.rvs(loc=100, scale=110, size=size), np.array([1000, 2000]))\n",
    "    x_a_log = np.log(x_a)\n",
    "    x_b_log = np.log(x_b)\n",
    "    \n",
    "    p_values.append(sps.ttest_ind(x_a, x_b).pvalue)\n",
    "    p_values_log.append(sps.ttest_ind(x_a_log, x_b_log).pvalue)"
   ]
  },
  {
   "cell_type": "code",
   "execution_count": null,
   "metadata": {},
   "outputs": [],
   "source": [
    "get_power(p_values)"
   ]
  },
  {
   "cell_type": "code",
   "execution_count": null,
   "metadata": {},
   "outputs": [],
   "source": [
    "get_power(p_values_log)"
   ]
  },
  {
   "cell_type": "markdown",
   "metadata": {},
   "source": [
    "### Особый пример для логарифмирования"
   ]
  },
  {
   "cell_type": "code",
   "execution_count": null,
   "metadata": {},
   "outputs": [],
   "source": [
    "# Изначальные соотношения\n",
    "sample_control = [3] * 30 + [10] * 30 + [200] * 10 + [1200]\n",
    "sample_test    = [8] * 30 + [20] * 30 + [100] * 10 + [1000]\n",
    "# Добавим немного случайности, чтобы сохранить соотношения\n",
    "sample_control = np.array(sample_control) + sps.norm().rvs(len(sample_control))\n",
    "sample_test    = np.array(sample_test) + sps.norm().rvs(len(sample_test))\n",
    " "
   ]
  },
  {
   "cell_type": "code",
   "execution_count": null,
   "metadata": {},
   "outputs": [],
   "source": [
    "# Средние\n",
    "sample_control.mean(), sample_test.mean()\n",
    "# Output: (50.607336258084835, 39.952182594778115)"
   ]
  },
  {
   "cell_type": "code",
   "execution_count": null,
   "metadata": {},
   "outputs": [],
   "source": [
    "np.log(sample_control + 1).mean(), np.log(sample_test + 1).mean()\n",
    "# Output: (2.448935051567075, 2.953888940122415)\n",
    " "
   ]
  },
  {
   "cell_type": "code",
   "execution_count": null,
   "metadata": {},
   "outputs": [],
   "source": [
    "# Проверка гипотез\n",
    "sps.ttest_ind(sample_control, sample_test, alternative='less', equal_var=False)\n",
    "# Output: Ttest_indResult(statistic=0.45984895048111585, pvalue=0.676809082675744)"
   ]
  },
  {
   "cell_type": "code",
   "execution_count": null,
   "metadata": {},
   "outputs": [],
   "source": [
    "sps.ttest_ind(np.log(sample_control + 1), np.log(sample_test + 1), alternative='less', equal_var=False)\n",
    "# Output: Ttest_indResult(statistic=-2.5261569510816813, pvalue=0.006404244890592501)"
   ]
  },
  {
   "cell_type": "code",
   "execution_count": null,
   "metadata": {},
   "outputs": [],
   "source": []
  }
 ],
 "metadata": {
  "kernelspec": {
   "display_name": "Python 3",
   "language": "python",
   "name": "python3"
  },
  "language_info": {
   "codemirror_mode": {
    "name": "ipython",
    "version": 3
   },
   "file_extension": ".py",
   "mimetype": "text/x-python",
   "name": "python",
   "nbconvert_exporter": "python",
   "pygments_lexer": "ipython3",
   "version": "3.7.3"
  }
 },
 "nbformat": 4,
 "nbformat_minor": 5
}
