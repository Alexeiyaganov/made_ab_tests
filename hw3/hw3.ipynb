{
 "cells": [
  {
   "cell_type": "code",
   "execution_count": 6,
   "id": "0f41ce25",
   "metadata": {},
   "outputs": [
    {
     "name": "stderr",
     "output_type": "stream",
     "text": [
      "C:\\ProgramData\\Anaconda3\\lib\\site-packages\\scipy\\__init__.py:146: UserWarning: A NumPy version >=1.16.5 and <1.23.0 is required for this version of SciPy (detected version 1.24.3\n",
      "  warnings.warn(f\"A NumPy version >={np_minversion} and <{np_maxversion}\"\n"
     ]
    }
   ],
   "source": [
    "import numpy as np\n",
    "import scipy.stats as sps"
   ]
  },
  {
   "cell_type": "code",
   "execution_count": 10,
   "id": "32a12239",
   "metadata": {},
   "outputs": [],
   "source": [
    "def duration(k, delta_effect, sigma_1, sigma_2, alpha=0.05, beta=0.2):\n",
    "    z = sps.norm.ppf(1 - alpha/2) + sps.norm.ppf(1-beta)\n",
    "    n = (k+1) * z ** 2 * (sigma_1 ** 2 + sigma_2 **2 / k) / (delta_effect ** 2)\n",
    "    return n"
   ]
  },
  {
   "cell_type": "code",
   "execution_count": 11,
   "id": "1366e12e",
   "metadata": {},
   "outputs": [],
   "source": [
    "def count_duration(power, effect):\n",
    "    p_values = []\n",
    "    size = 15\n",
    "    n_exp = 10000\n",
    "    scale_1 = 1/2\n",
    "    scale_2 = scale_1 + effect\n",
    "    \n",
    "    test_duration = duration(k=1, delta_effect=effect, sigma_1=1./scale_1, sigma_2=1./scale_2, beta=1 - power)\n",
    "    \n",
    "    return test_duration"
   ]
  },
  {
   "cell_type": "code",
   "execution_count": 12,
   "id": "c08c510b",
   "metadata": {},
   "outputs": [
    {
     "name": "stdout",
     "output_type": "stream",
     "text": [
      "effect: 0.03, power: 0.8, duration: 131860.93116461945\n"
     ]
    }
   ],
   "source": [
    "print(f\"effect: {0.03}, power: {0.8}, duration: {count_duration(0.8, 0.03)}\")"
   ]
  },
  {
   "cell_type": "code",
   "execution_count": null,
   "id": "dac94c98",
   "metadata": {},
   "outputs": [],
   "source": []
  }
 ],
 "metadata": {
  "kernelspec": {
   "display_name": "Python 3 (ipykernel)",
   "language": "python",
   "name": "python3"
  },
  "language_info": {
   "codemirror_mode": {
    "name": "ipython",
    "version": 3
   },
   "file_extension": ".py",
   "mimetype": "text/x-python",
   "name": "python",
   "nbconvert_exporter": "python",
   "pygments_lexer": "ipython3",
   "version": "3.9.7"
  }
 },
 "nbformat": 4,
 "nbformat_minor": 5
}
