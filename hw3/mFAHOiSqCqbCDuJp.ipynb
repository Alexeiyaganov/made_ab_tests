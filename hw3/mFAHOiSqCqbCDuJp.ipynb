{
 "cells": [
  {
   "cell_type": "code",
   "execution_count": null,
   "metadata": {},
   "outputs": [],
   "source": [
    "import numpy as np\n",
    "import pandas as pd\n",
    "import scipy.stats as sps\n",
    "import plotly.graph_objs as go"
   ]
  },
  {
   "cell_type": "markdown",
   "metadata": {},
   "source": [
    "# Точечные оценки"
   ]
  },
  {
   "cell_type": "code",
   "execution_count": null,
   "metadata": {},
   "outputs": [],
   "source": [
    "n1 = 10\n",
    "n2 = 1000\n",
    "n_exp = 10"
   ]
  },
  {
   "cell_type": "code",
   "execution_count": null,
   "metadata": {},
   "outputs": [],
   "source": [
    "mean_1 = []\n",
    "mean_2 = []\n",
    "std_1 = []\n",
    "std_2 = []\n",
    "for _ in range(n_exp):\n",
    "    x1 = sps.norm.rvs(loc=1, scale=1, size=n1)\n",
    "    mean_1.append(x1.mean())\n",
    "    std_1.append(x1.std(ddof=1))\n",
    "    x2 = sps.norm.rvs(loc=1, scale=1, size=n2)\n",
    "    mean_2.append(x2.mean())\n",
    "    std_2.append(x2.std(ddof=1))"
   ]
  },
  {
   "cell_type": "code",
   "execution_count": null,
   "metadata": {},
   "outputs": [],
   "source": [
    "mean_1"
   ]
  },
  {
   "cell_type": "code",
   "execution_count": null,
   "metadata": {},
   "outputs": [],
   "source": [
    "mean_2"
   ]
  },
  {
   "cell_type": "code",
   "execution_count": null,
   "metadata": {},
   "outputs": [],
   "source": [
    "std_1"
   ]
  },
  {
   "cell_type": "code",
   "execution_count": null,
   "metadata": {},
   "outputs": [],
   "source": [
    "std_2"
   ]
  },
  {
   "cell_type": "markdown",
   "metadata": {},
   "source": [
    "# Доверительные интервал"
   ]
  },
  {
   "cell_type": "code",
   "execution_count": null,
   "metadata": {},
   "outputs": [],
   "source": [
    "alpha = 0.05\n",
    "\n",
    "n1 = 10\n",
    "n2 = 1000\n",
    "n_exp = 10000"
   ]
  },
  {
   "cell_type": "code",
   "execution_count": null,
   "metadata": {},
   "outputs": [],
   "source": [
    "# коэффициент\n",
    "c = sps.norm.ppf(1 - alpha/2)"
   ]
  },
  {
   "cell_type": "code",
   "execution_count": null,
   "metadata": {},
   "outputs": [],
   "source": [
    "c"
   ]
  },
  {
   "cell_type": "code",
   "execution_count": null,
   "metadata": {},
   "outputs": [],
   "source": [
    "mean_1 = []\n",
    "mean_2 = []\n",
    "std_1 = []\n",
    "std_2 = []\n",
    "for _ in range(n_exp):\n",
    "    x1 = sps.norm.rvs(loc=1, scale=1, size=n1)\n",
    "    mean_1.append(x1.mean())\n",
    "    std_1.append(x1.std(ddof=1))\n",
    "    x2 = sps.norm.rvs(loc=1, scale=1, size=n2)\n",
    "    mean_2.append(x2.mean())\n",
    "    std_2.append(x2.std(ddof=1))\n",
    "    \n",
    "mean_1 = np.array(mean_1)\n",
    "mean_2 = np.array(mean_2)\n",
    "std_1 = np.array(std_1)\n",
    "std_2 = np.array(std_2)"
   ]
  },
  {
   "cell_type": "code",
   "execution_count": null,
   "metadata": {},
   "outputs": [],
   "source": [
    "CI_1 = np.array(list(zip(mean_1 - c*std_1/np.sqrt(n1), mean_1 + c*std_1/np.sqrt(n1))))"
   ]
  },
  {
   "cell_type": "code",
   "execution_count": null,
   "metadata": {},
   "outputs": [],
   "source": [
    "CI_2 = np.array(list(zip(mean_2 - c*std_2/np.sqrt(n2), mean_2 + c*std_2/np.sqrt(n2))))"
   ]
  },
  {
   "cell_type": "code",
   "execution_count": null,
   "metadata": {},
   "outputs": [],
   "source": [
    "CI_1"
   ]
  },
  {
   "cell_type": "code",
   "execution_count": null,
   "metadata": {},
   "outputs": [],
   "source": [
    "CI_2"
   ]
  },
  {
   "cell_type": "code",
   "execution_count": null,
   "metadata": {},
   "outputs": [],
   "source": [
    "df_ci_1 = pd.DataFrame(CI_1, columns=[\"left\", \"right\"])\n",
    "df_ci_1[\"contain_real_mean\"] = 1\n",
    "df_ci_1.loc[(1 < df_ci_1[\"left\"]) | (1 > df_ci_1[\"right\"]), \"contain_real_mean\"] = 0\n",
    "df_ci_1[\"contain_real_mean\"].sum() / df_ci_1[\"contain_real_mean\"].shape[0] "
   ]
  },
  {
   "cell_type": "code",
   "execution_count": null,
   "metadata": {},
   "outputs": [],
   "source": [
    "df_ci_2 = pd.DataFrame(CI_2, columns=[\"left\", \"right\"])\n",
    "df_ci_2[\"contain_real_mean\"] = 1\n",
    "df_ci_2.loc[(1 < df_ci_2[\"left\"]) | (1 > df_ci_2[\"right\"]), \"contain_real_mean\"] = 0\n",
    "df_ci_2[\"contain_real_mean\"].sum() / df_ci_2[\"contain_real_mean\"].shape[0] "
   ]
  },
  {
   "cell_type": "markdown",
   "metadata": {},
   "source": [
    "### Отрисовка"
   ]
  },
  {
   "cell_type": "code",
   "execution_count": null,
   "metadata": {},
   "outputs": [],
   "source": [
    "size = 1000\n",
    "\n",
    "x1 = sps.norm.rvs(loc=1, scale=11.5, size=size)\n",
    "mean_1 = x1.mean()\n",
    "std_1 = x1.std(ddof=1)\n",
    "\n",
    "x2 = sps.norm.rvs(loc=1.3, scale=1, size=size)\n",
    "mean_2 = x2.mean()\n",
    "std_2 = x2.std(ddof=1)\n",
    "    \n",
    "CI_1 = [mean_1 - c*std_1 / np.sqrt(size), mean_1 + c*std_1 / np.sqrt(size)]\n",
    "\n",
    "CI_2 = [mean_2 - c*std_2 / np.sqrt(size), mean_2 + c*std_2 / np.sqrt(size)]"
   ]
  },
  {
   "cell_type": "code",
   "execution_count": null,
   "metadata": {},
   "outputs": [],
   "source": [
    "CI_1"
   ]
  },
  {
   "cell_type": "code",
   "execution_count": null,
   "metadata": {},
   "outputs": [],
   "source": [
    "CI_2"
   ]
  },
  {
   "cell_type": "code",
   "execution_count": null,
   "metadata": {},
   "outputs": [],
   "source": [
    "fig = go.Figure()\n",
    "fig.add_shape(type=\"rect\",\n",
    "    x0=CI_1[0], y0=1, x1=CI_1[1], y1=2,\n",
    "    fillcolor=\"lavender\",\n",
    ")\n",
    "fig.add_shape(type=\"rect\",\n",
    "    x0=CI_2[0], y0=0, x1=CI_2[1], y1=1,\n",
    "    fillcolor=\"RoyalBlue\",\n",
    ")\n",
    "fig.update_shapes(dict(xref='x', yref='y'))\n",
    "fig.show()"
   ]
  },
  {
   "cell_type": "markdown",
   "metadata": {},
   "source": [
    "## Уилсон"
   ]
  },
  {
   "cell_type": "code",
   "execution_count": null,
   "metadata": {},
   "outputs": [],
   "source": [
    "size = 1000\n",
    "\n",
    "x1 = sps.bernoulli.rvs(p=0.015, size=size)\n",
    "mean_1 = x1.mean()\n",
    "std_1 = x1.std(ddof=1)\n",
    "\n",
    "x2 = sps.bernoulli.rvs(p=0.025, size=size)\n",
    "mean_2 = x2.mean()\n",
    "std_2 = x2.std(ddof=1)\n",
    "    \n",
    "CI_1 = [mean_1 - c*std_1 / np.sqrt(size), mean_1 + c*std_1 / np.sqrt(size)]\n",
    "\n",
    "CI_2 = [mean_2 - c*std_2 / np.sqrt(size), mean_2 + c*std_2 / np.sqrt(size)]"
   ]
  },
  {
   "cell_type": "code",
   "execution_count": null,
   "metadata": {},
   "outputs": [],
   "source": [
    "CI_1, CI_2"
   ]
  },
  {
   "cell_type": "code",
   "execution_count": null,
   "metadata": {},
   "outputs": [],
   "source": [
    "z = sps.norm.ppf(1 - alpha/2)"
   ]
  },
  {
   "cell_type": "code",
   "execution_count": null,
   "metadata": {},
   "outputs": [],
   "source": [
    "CI_1_U = [(mean_1 + z**2 / (2*size) - z*np.sqrt(mean_1*(1-mean_1)/size + z**2/(4*size**2))) / (1 + z**2 / size),\n",
    "          (mean_1 + z**2 / (2*size) + z*np.sqrt(mean_1*(1-mean_1)/size + z**2/(4*size**2))) / (1 + z**2 / size)]"
   ]
  },
  {
   "cell_type": "code",
   "execution_count": null,
   "metadata": {},
   "outputs": [],
   "source": [
    "CI_2_U = [(mean_2 + z**2 / (2*size) - z*np.sqrt(mean_2*(1-mean_2)/size + z**2/(4*size**2))) / (1 + z**2 / size),\n",
    "          (mean_2 + z**2 / (2*size) + z*np.sqrt(mean_2*(1-mean_2)/size + z**2/(4*size**2))) / (1 + z**2 / size)]"
   ]
  },
  {
   "cell_type": "code",
   "execution_count": null,
   "metadata": {},
   "outputs": [],
   "source": [
    "CI_1_U, CI_2_U"
   ]
  },
  {
   "cell_type": "markdown",
   "metadata": {},
   "source": [
    "# Bootstrap"
   ]
  },
  {
   "cell_type": "code",
   "execution_count": null,
   "metadata": {},
   "outputs": [],
   "source": [
    "def get_bootstrap_sample_indices(sample_size: int, n_samples: int) -> np.ndarray:\n",
    "    return np.random.randint(0, sample_size, (n_samples, sample_size))\n",
    "\n",
    "def get_bootstrap_samples(X: np.ndarray, n_samples: int) -> np.ndarray:\n",
    "    return X[get_bootstrap_sample_indices(len(X), n_samples)]"
   ]
  },
  {
   "cell_type": "code",
   "execution_count": null,
   "metadata": {},
   "outputs": [],
   "source": [
    "size = 100\n",
    "x_a = sps.expon.rvs(loc=4, scale=16, size=size)"
   ]
  },
  {
   "cell_type": "code",
   "execution_count": null,
   "metadata": {},
   "outputs": [],
   "source": [
    "np.median(x_a)"
   ]
  },
  {
   "cell_type": "code",
   "execution_count": null,
   "metadata": {},
   "outputs": [],
   "source": [
    "X_bootstrap = get_bootstrap_samples(x_a, n_samples=10_000)"
   ]
  },
  {
   "cell_type": "code",
   "execution_count": null,
   "metadata": {},
   "outputs": [],
   "source": [
    "X_bootstrap"
   ]
  },
  {
   "cell_type": "code",
   "execution_count": null,
   "metadata": {},
   "outputs": [],
   "source": [
    "metrics_mean = np.median(X_bootstrap, axis=1)"
   ]
  },
  {
   "cell_type": "code",
   "execution_count": null,
   "metadata": {},
   "outputs": [],
   "source": [
    "go.Figure([go.Histogram(x=metrics_mean)])"
   ]
  },
  {
   "cell_type": "code",
   "execution_count": null,
   "metadata": {},
   "outputs": [],
   "source": [
    "alpha = 0.05"
   ]
  },
  {
   "cell_type": "code",
   "execution_count": null,
   "metadata": {},
   "outputs": [],
   "source": [
    "CI = np.percentile(metrics_mean, (alpha * 100, (1 - alpha) * 100))"
   ]
  },
  {
   "cell_type": "code",
   "execution_count": null,
   "metadata": {},
   "outputs": [],
   "source": [
    "CI"
   ]
  },
  {
   "cell_type": "markdown",
   "metadata": {},
   "source": [
    "# T-test"
   ]
  },
  {
   "cell_type": "code",
   "execution_count": null,
   "metadata": {},
   "outputs": [],
   "source": [
    "size = 30\n",
    "n_sample = 1000\n",
    "p_values = []\n",
    "for _ in range(n_sample):\n",
    "    x_a = sps.norm.rvs(loc=1, scale=11.5, size=size)\n",
    "    x_b = sps.norm.rvs(loc=1, scale=1, size=size)\n",
    "    p_values.append(sps.mannwhitneyu(x_a, x_b).pvalue)\n",
    "p_values = np.array(p_values)"
   ]
  },
  {
   "cell_type": "code",
   "execution_count": null,
   "metadata": {},
   "outputs": [],
   "source": [
    "p_values[p_values < 0.05].shape[0] / n_sample"
   ]
  },
  {
   "cell_type": "code",
   "execution_count": null,
   "metadata": {},
   "outputs": [],
   "source": [
    "size = 30\n",
    "n_sample = 1000\n",
    "p_values = []\n",
    "for _ in range(n_sample):\n",
    "    x_a = sps.expon.rvs(loc=1, scale=1, size=size)\n",
    "    x_b = sps.expon.rvs(loc=1, scale=1, size=size)\n",
    "    p_values.append(sps.ttest_ind(x_a, x_b, equal_var=False).pvalue)\n",
    "p_values = np.array(p_values)"
   ]
  },
  {
   "cell_type": "code",
   "execution_count": null,
   "metadata": {},
   "outputs": [],
   "source": [
    "p_values[p_values < 0.05].shape[0] / n_sample"
   ]
  },
  {
   "cell_type": "markdown",
   "metadata": {},
   "source": [
    "# Манн-Уитни"
   ]
  },
  {
   "cell_type": "code",
   "execution_count": null,
   "metadata": {},
   "outputs": [],
   "source": [
    "x_a = [15, 12, 12, 10]\n",
    "x_b = [14, 11, 9, 9]"
   ]
  },
  {
   "cell_type": "code",
   "execution_count": null,
   "metadata": {},
   "outputs": [],
   "source": [
    "sps.mannwhitneyu(x_a, x_b)"
   ]
  },
  {
   "cell_type": "code",
   "execution_count": null,
   "metadata": {},
   "outputs": [],
   "source": [
    "xr_a = [0, 2.5, 2.5, 5]\n",
    "xr_b = [1, 4, 6.5, 6.5]"
   ]
  },
  {
   "cell_type": "code",
   "execution_count": null,
   "metadata": {},
   "outputs": [],
   "source": [
    "sps.ttest_ind(xr_a, xr_b)"
   ]
  },
  {
   "cell_type": "code",
   "execution_count": null,
   "metadata": {},
   "outputs": [],
   "source": [
    "size = 30\n",
    "n_sample = 1000\n",
    "p_values = []\n",
    "for _ in range(n_sample):\n",
    "    x_a = sps.norm.rvs(loc=1, scale=1, size=size)\n",
    "    x_b = sps.norm.rvs(loc=1, scale=1, size=size)\n",
    "    p_values.append(sps.mannwhitneyu(x_a, x_b).pvalue)\n",
    "p_values = np.array(p_values)"
   ]
  },
  {
   "cell_type": "code",
   "execution_count": null,
   "metadata": {},
   "outputs": [],
   "source": [
    "p_values[p_values < 0.05].shape[0] / n_sample"
   ]
  },
  {
   "cell_type": "code",
   "execution_count": null,
   "metadata": {},
   "outputs": [],
   "source": [
    "size = 30\n",
    "n_sample = 1000\n",
    "p_values = []\n",
    "for _ in range(n_sample):\n",
    "    x_a = sps.expon.rvs(loc=1, scale=1, size=size)\n",
    "    x_b = sps.expon.rvs(loc=1, scale=1, size=size)\n",
    "    p_values.append(sps.mannwhitneyu(x_a, x_b).pvalue)\n",
    "p_values = np.array(p_values)"
   ]
  },
  {
   "cell_type": "code",
   "execution_count": null,
   "metadata": {},
   "outputs": [],
   "source": [
    "p_values[p_values < 0.05].shape[0] / n_sample"
   ]
  },
  {
   "cell_type": "markdown",
   "metadata": {},
   "source": [
    "# Мощность критерия"
   ]
  },
  {
   "cell_type": "code",
   "execution_count": null,
   "metadata": {},
   "outputs": [],
   "source": [
    "size = 100\n",
    "effect = 10\n",
    "n_exp = 10_000\n",
    "alpha = 0.05\n",
    "\n",
    "p_values = []\n",
    "for i in range(n_exp):\n",
    "    x_a = sps.norm.rvs(loc=10, scale=3, size=size)\n",
    "    x_b = sps.norm.rvs(loc=10 + effect, scale=3, size=size)\n",
    "    p_value = sps.ttest_ind(x_a, x_b).pvalue\n",
    "    p_values.append(p_value)\n",
    "p_values = np.array(p_values)"
   ]
  },
  {
   "cell_type": "markdown",
   "metadata": {},
   "source": [
    "Оценка мощности"
   ]
  },
  {
   "cell_type": "code",
   "execution_count": null,
   "metadata": {},
   "outputs": [],
   "source": [
    "p_values[p_values < alpha].shape[0] / p_values.shape[0] * 100"
   ]
  },
  {
   "cell_type": "markdown",
   "metadata": {},
   "source": [
    "# Корректность критерия"
   ]
  },
  {
   "cell_type": "markdown",
   "metadata": {},
   "source": [
    "Вариант с нормальными распределениями"
   ]
  },
  {
   "cell_type": "code",
   "execution_count": null,
   "metadata": {},
   "outputs": [],
   "source": [
    "p_values = []\n",
    "size = 5\n",
    "n_exp = 1000\n",
    "for i in range(n_exp):\n",
    "    x_a = sps.norm.rvs(loc=1, scale=1, size=size)\n",
    "    x_b = sps.norm.rvs(loc=1, scale=1, size=size)\n",
    "    p_value = sps.ttest_ind(x_a, x_b, equal_var=False).pvalue\n",
    "    p_values.append(p_value)\n",
    "p_values = np.array(p_values)"
   ]
  },
  {
   "cell_type": "markdown",
   "metadata": {},
   "source": [
    "Вариант с смесью нормальных распределений"
   ]
  },
  {
   "cell_type": "code",
   "execution_count": null,
   "metadata": {},
   "outputs": [],
   "source": [
    "p_values = []\n",
    "size = 100\n",
    "n_exp = 10000\n",
    "for i in range(n_exp):\n",
    "    x_a = np.append(\n",
    "        sps.norm.rvs(loc=1, scale=1, size=size),\n",
    "        sps.norm.rvs(loc=0.5, scale=0.1, size=size),\n",
    "    )\n",
    "    x_b = np.append(\n",
    "        sps.norm.rvs(loc=1, scale=1, size=size),\n",
    "        sps.norm.rvs(loc=0.5, scale=0.1, size=size),\n",
    "    )\n",
    "    p_value = sps.ttest_ind(x_a, x_b).pvalue\n",
    "    p_values.append(p_value)\n",
    "p_values = np.array(p_values)"
   ]
  },
  {
   "cell_type": "markdown",
   "metadata": {},
   "source": [
    "Другой вариант со смесью нормальных распеределений"
   ]
  },
  {
   "cell_type": "code",
   "execution_count": null,
   "metadata": {},
   "outputs": [],
   "source": [
    "p_values = []\n",
    "size = 100\n",
    "n_exp = 10000\n",
    "for i in range(n_exp):\n",
    "    a_1 = sps.norm.rvs(loc=1, scale=1, size=size)\n",
    "    a_2 = sps.norm.rvs(loc=0.5, scale=0.1, size=size)\n",
    "    a_mask = sps.randint.rvs(0, 2, size=size).astype(bool)\n",
    "    x_a = np.append(\n",
    "        a_1[a_mask],\n",
    "        a_2[~a_mask],\n",
    "    )\n",
    "    \n",
    "    b_1 = sps.norm.rvs(loc=1, scale=1, size=size)\n",
    "    b_2 = sps.norm.rvs(loc=0.5, scale=0.1, size=size)\n",
    "    b_mask = sps.randint.rvs(0, 2, size=size).astype(bool)\n",
    "    x_b = np.append(\n",
    "        b_1[b_mask],\n",
    "        b_2[~b_mask],\n",
    "    )\n",
    "    p_value = sps.ttest_ind(x_a, x_b, equal_var=True).pvalue\n",
    "    p_values.append(p_value)\n",
    "p_values = np.array(p_values)"
   ]
  },
  {
   "cell_type": "markdown",
   "metadata": {},
   "source": [
    "Экспоненциальные распределения"
   ]
  },
  {
   "cell_type": "code",
   "execution_count": null,
   "metadata": {},
   "outputs": [],
   "source": [
    "p_values = []\n",
    "size = 15\n",
    "n_exp = 10000\n",
    "for i in range(n_exp):\n",
    "    x_a = sps.expon.rvs(scale=1/2, size=size)\n",
    "    x_b = sps.expon.rvs(scale=1/2, size=size)\n",
    "    p_value = sps.ttest_ind(x_a, x_b).pvalue\n",
    "    p_values.append(p_value)\n",
    "p_values = np.array(p_values)"
   ]
  },
  {
   "cell_type": "markdown",
   "metadata": {},
   "source": [
    "Бернулли распределение"
   ]
  },
  {
   "cell_type": "code",
   "execution_count": null,
   "metadata": {},
   "outputs": [],
   "source": [
    "p_values = []\n",
    "size = 1000\n",
    "n_exp = 10000\n",
    "for i in range(n_exp):\n",
    "    x_a = sps.bernoulli.rvs(p=0.05, size=size)\n",
    "    x_b = sps.bernoulli.rvs(p=0.05, size=size)\n",
    "    p_value = sps.ttest_ind(x_a, x_b).pvalue\n",
    "    p_values.append(p_value)\n",
    "p_values = np.array(p_values)"
   ]
  },
  {
   "cell_type": "markdown",
   "metadata": {},
   "source": [
    "### Оценка распределения"
   ]
  },
  {
   "cell_type": "code",
   "execution_count": null,
   "metadata": {},
   "outputs": [],
   "source": [
    "fig = go.Figure([go.Histogram(x=x_a, opacity=0.8),\n",
    "                 go.Histogram(x=x_b, opacity=0.8)])\n",
    "fig.update_layout(barmode=\"overlay\")"
   ]
  },
  {
   "cell_type": "markdown",
   "metadata": {},
   "source": [
    "### Оценка критерия на данных"
   ]
  },
  {
   "cell_type": "code",
   "execution_count": null,
   "metadata": {},
   "outputs": [],
   "source": [
    "alpha = 0.05"
   ]
  },
  {
   "cell_type": "code",
   "execution_count": null,
   "metadata": {},
   "outputs": [],
   "source": [
    "p_values[p_values < alpha].shape[0] / p_values.shape[0]"
   ]
  },
  {
   "cell_type": "code",
   "execution_count": null,
   "metadata": {},
   "outputs": [],
   "source": [
    "probs = []\n",
    "x = [0.01 * i for i in range(101)]\n",
    "for i in range(101):\n",
    "    alpha_step = 0.01 * i\n",
    "    probs.append(p_values[p_values < alpha_step].shape[0] / p_values.shape[0])"
   ]
  },
  {
   "cell_type": "code",
   "execution_count": null,
   "metadata": {},
   "outputs": [],
   "source": [
    "fig = go.Figure([go.Scatter(x=x, y=probs, mode=\"markers\", name=\"p_value\"),\n",
    "                 go.Scatter(x=x, y=x, mode=\"lines\", name=\"uniform\")])\n",
    "fig.update_layout(height=600, width=600, title=\"Q-Q plot\")"
   ]
  },
  {
   "cell_type": "code",
   "execution_count": null,
   "metadata": {},
   "outputs": [],
   "source": [
    "fig = go.Figure([go.Histogram(x=p_values, xbins={\"start\":0, \"end\":1, \"size\": 0.1})])\n",
    "fig"
   ]
  },
  {
   "cell_type": "code",
   "execution_count": null,
   "metadata": {},
   "outputs": [],
   "source": []
  }
 ],
 "metadata": {
  "kernelspec": {
   "display_name": "Python 3",
   "language": "python",
   "name": "python3"
  },
  "language_info": {
   "codemirror_mode": {
    "name": "ipython",
    "version": 3
   },
   "file_extension": ".py",
   "mimetype": "text/x-python",
   "name": "python",
   "nbconvert_exporter": "python",
   "pygments_lexer": "ipython3",
   "version": "3.7.3"
  }
 },
 "nbformat": 4,
 "nbformat_minor": 5
}
